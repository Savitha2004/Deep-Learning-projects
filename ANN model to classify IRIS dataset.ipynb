{
  "nbformat": 4,
  "nbformat_minor": 0,
  "metadata": {
    "colab": {
      "provenance": []
    },
    "kernelspec": {
      "name": "python3",
      "display_name": "Python 3"
    },
    "language_info": {
      "name": "python"
    }
  },
  "cells": [
    {
      "cell_type": "code",
      "execution_count": null,
      "metadata": {
        "id": "nOZReylarB5l"
      },
      "outputs": [],
      "source": [
        "import tensorflow\n",
        "from tensorflow.keras.models import Sequential\n",
        "from tensorflow.keras.layers import Dense"
      ]
    },
    {
      "cell_type": "code",
      "source": [
        "from sklearn.datasets import load_iris\n",
        "iris=load_iris()"
      ],
      "metadata": {
        "id": "TIOsWFok9SKt"
      },
      "execution_count": null,
      "outputs": []
    },
    {
      "cell_type": "code",
      "source": [
        "dir(iris)"
      ],
      "metadata": {
        "colab": {
          "base_uri": "https://localhost:8080/"
        },
        "id": "FaSoM7wACXZ_",
        "outputId": "e16c2107-2df0-42a3-90af-48d745d74b6c"
      },
      "execution_count": null,
      "outputs": [
        {
          "output_type": "execute_result",
          "data": {
            "text/plain": [
              "['DESCR',\n",
              " 'data',\n",
              " 'data_module',\n",
              " 'feature_names',\n",
              " 'filename',\n",
              " 'frame',\n",
              " 'target',\n",
              " 'target_names']"
            ]
          },
          "metadata": {},
          "execution_count": 26
        }
      ]
    },
    {
      "cell_type": "code",
      "source": [
        "iris.data"
      ],
      "metadata": {
        "colab": {
          "base_uri": "https://localhost:8080/"
        },
        "id": "mLDbu9-_CbJs",
        "outputId": "67d6a337-c80f-4639-b31b-cec129613b33"
      },
      "execution_count": null,
      "outputs": [
        {
          "output_type": "execute_result",
          "data": {
            "text/plain": [
              "array([[5.1, 3.5, 1.4, 0.2],\n",
              "       [4.9, 3. , 1.4, 0.2],\n",
              "       [4.7, 3.2, 1.3, 0.2],\n",
              "       [4.6, 3.1, 1.5, 0.2],\n",
              "       [5. , 3.6, 1.4, 0.2],\n",
              "       [5.4, 3.9, 1.7, 0.4],\n",
              "       [4.6, 3.4, 1.4, 0.3],\n",
              "       [5. , 3.4, 1.5, 0.2],\n",
              "       [4.4, 2.9, 1.4, 0.2],\n",
              "       [4.9, 3.1, 1.5, 0.1],\n",
              "       [5.4, 3.7, 1.5, 0.2],\n",
              "       [4.8, 3.4, 1.6, 0.2],\n",
              "       [4.8, 3. , 1.4, 0.1],\n",
              "       [4.3, 3. , 1.1, 0.1],\n",
              "       [5.8, 4. , 1.2, 0.2],\n",
              "       [5.7, 4.4, 1.5, 0.4],\n",
              "       [5.4, 3.9, 1.3, 0.4],\n",
              "       [5.1, 3.5, 1.4, 0.3],\n",
              "       [5.7, 3.8, 1.7, 0.3],\n",
              "       [5.1, 3.8, 1.5, 0.3],\n",
              "       [5.4, 3.4, 1.7, 0.2],\n",
              "       [5.1, 3.7, 1.5, 0.4],\n",
              "       [4.6, 3.6, 1. , 0.2],\n",
              "       [5.1, 3.3, 1.7, 0.5],\n",
              "       [4.8, 3.4, 1.9, 0.2],\n",
              "       [5. , 3. , 1.6, 0.2],\n",
              "       [5. , 3.4, 1.6, 0.4],\n",
              "       [5.2, 3.5, 1.5, 0.2],\n",
              "       [5.2, 3.4, 1.4, 0.2],\n",
              "       [4.7, 3.2, 1.6, 0.2],\n",
              "       [4.8, 3.1, 1.6, 0.2],\n",
              "       [5.4, 3.4, 1.5, 0.4],\n",
              "       [5.2, 4.1, 1.5, 0.1],\n",
              "       [5.5, 4.2, 1.4, 0.2],\n",
              "       [4.9, 3.1, 1.5, 0.2],\n",
              "       [5. , 3.2, 1.2, 0.2],\n",
              "       [5.5, 3.5, 1.3, 0.2],\n",
              "       [4.9, 3.6, 1.4, 0.1],\n",
              "       [4.4, 3. , 1.3, 0.2],\n",
              "       [5.1, 3.4, 1.5, 0.2],\n",
              "       [5. , 3.5, 1.3, 0.3],\n",
              "       [4.5, 2.3, 1.3, 0.3],\n",
              "       [4.4, 3.2, 1.3, 0.2],\n",
              "       [5. , 3.5, 1.6, 0.6],\n",
              "       [5.1, 3.8, 1.9, 0.4],\n",
              "       [4.8, 3. , 1.4, 0.3],\n",
              "       [5.1, 3.8, 1.6, 0.2],\n",
              "       [4.6, 3.2, 1.4, 0.2],\n",
              "       [5.3, 3.7, 1.5, 0.2],\n",
              "       [5. , 3.3, 1.4, 0.2],\n",
              "       [7. , 3.2, 4.7, 1.4],\n",
              "       [6.4, 3.2, 4.5, 1.5],\n",
              "       [6.9, 3.1, 4.9, 1.5],\n",
              "       [5.5, 2.3, 4. , 1.3],\n",
              "       [6.5, 2.8, 4.6, 1.5],\n",
              "       [5.7, 2.8, 4.5, 1.3],\n",
              "       [6.3, 3.3, 4.7, 1.6],\n",
              "       [4.9, 2.4, 3.3, 1. ],\n",
              "       [6.6, 2.9, 4.6, 1.3],\n",
              "       [5.2, 2.7, 3.9, 1.4],\n",
              "       [5. , 2. , 3.5, 1. ],\n",
              "       [5.9, 3. , 4.2, 1.5],\n",
              "       [6. , 2.2, 4. , 1. ],\n",
              "       [6.1, 2.9, 4.7, 1.4],\n",
              "       [5.6, 2.9, 3.6, 1.3],\n",
              "       [6.7, 3.1, 4.4, 1.4],\n",
              "       [5.6, 3. , 4.5, 1.5],\n",
              "       [5.8, 2.7, 4.1, 1. ],\n",
              "       [6.2, 2.2, 4.5, 1.5],\n",
              "       [5.6, 2.5, 3.9, 1.1],\n",
              "       [5.9, 3.2, 4.8, 1.8],\n",
              "       [6.1, 2.8, 4. , 1.3],\n",
              "       [6.3, 2.5, 4.9, 1.5],\n",
              "       [6.1, 2.8, 4.7, 1.2],\n",
              "       [6.4, 2.9, 4.3, 1.3],\n",
              "       [6.6, 3. , 4.4, 1.4],\n",
              "       [6.8, 2.8, 4.8, 1.4],\n",
              "       [6.7, 3. , 5. , 1.7],\n",
              "       [6. , 2.9, 4.5, 1.5],\n",
              "       [5.7, 2.6, 3.5, 1. ],\n",
              "       [5.5, 2.4, 3.8, 1.1],\n",
              "       [5.5, 2.4, 3.7, 1. ],\n",
              "       [5.8, 2.7, 3.9, 1.2],\n",
              "       [6. , 2.7, 5.1, 1.6],\n",
              "       [5.4, 3. , 4.5, 1.5],\n",
              "       [6. , 3.4, 4.5, 1.6],\n",
              "       [6.7, 3.1, 4.7, 1.5],\n",
              "       [6.3, 2.3, 4.4, 1.3],\n",
              "       [5.6, 3. , 4.1, 1.3],\n",
              "       [5.5, 2.5, 4. , 1.3],\n",
              "       [5.5, 2.6, 4.4, 1.2],\n",
              "       [6.1, 3. , 4.6, 1.4],\n",
              "       [5.8, 2.6, 4. , 1.2],\n",
              "       [5. , 2.3, 3.3, 1. ],\n",
              "       [5.6, 2.7, 4.2, 1.3],\n",
              "       [5.7, 3. , 4.2, 1.2],\n",
              "       [5.7, 2.9, 4.2, 1.3],\n",
              "       [6.2, 2.9, 4.3, 1.3],\n",
              "       [5.1, 2.5, 3. , 1.1],\n",
              "       [5.7, 2.8, 4.1, 1.3],\n",
              "       [6.3, 3.3, 6. , 2.5],\n",
              "       [5.8, 2.7, 5.1, 1.9],\n",
              "       [7.1, 3. , 5.9, 2.1],\n",
              "       [6.3, 2.9, 5.6, 1.8],\n",
              "       [6.5, 3. , 5.8, 2.2],\n",
              "       [7.6, 3. , 6.6, 2.1],\n",
              "       [4.9, 2.5, 4.5, 1.7],\n",
              "       [7.3, 2.9, 6.3, 1.8],\n",
              "       [6.7, 2.5, 5.8, 1.8],\n",
              "       [7.2, 3.6, 6.1, 2.5],\n",
              "       [6.5, 3.2, 5.1, 2. ],\n",
              "       [6.4, 2.7, 5.3, 1.9],\n",
              "       [6.8, 3. , 5.5, 2.1],\n",
              "       [5.7, 2.5, 5. , 2. ],\n",
              "       [5.8, 2.8, 5.1, 2.4],\n",
              "       [6.4, 3.2, 5.3, 2.3],\n",
              "       [6.5, 3. , 5.5, 1.8],\n",
              "       [7.7, 3.8, 6.7, 2.2],\n",
              "       [7.7, 2.6, 6.9, 2.3],\n",
              "       [6. , 2.2, 5. , 1.5],\n",
              "       [6.9, 3.2, 5.7, 2.3],\n",
              "       [5.6, 2.8, 4.9, 2. ],\n",
              "       [7.7, 2.8, 6.7, 2. ],\n",
              "       [6.3, 2.7, 4.9, 1.8],\n",
              "       [6.7, 3.3, 5.7, 2.1],\n",
              "       [7.2, 3.2, 6. , 1.8],\n",
              "       [6.2, 2.8, 4.8, 1.8],\n",
              "       [6.1, 3. , 4.9, 1.8],\n",
              "       [6.4, 2.8, 5.6, 2.1],\n",
              "       [7.2, 3. , 5.8, 1.6],\n",
              "       [7.4, 2.8, 6.1, 1.9],\n",
              "       [7.9, 3.8, 6.4, 2. ],\n",
              "       [6.4, 2.8, 5.6, 2.2],\n",
              "       [6.3, 2.8, 5.1, 1.5],\n",
              "       [6.1, 2.6, 5.6, 1.4],\n",
              "       [7.7, 3. , 6.1, 2.3],\n",
              "       [6.3, 3.4, 5.6, 2.4],\n",
              "       [6.4, 3.1, 5.5, 1.8],\n",
              "       [6. , 3. , 4.8, 1.8],\n",
              "       [6.9, 3.1, 5.4, 2.1],\n",
              "       [6.7, 3.1, 5.6, 2.4],\n",
              "       [6.9, 3.1, 5.1, 2.3],\n",
              "       [5.8, 2.7, 5.1, 1.9],\n",
              "       [6.8, 3.2, 5.9, 2.3],\n",
              "       [6.7, 3.3, 5.7, 2.5],\n",
              "       [6.7, 3. , 5.2, 2.3],\n",
              "       [6.3, 2.5, 5. , 1.9],\n",
              "       [6.5, 3. , 5.2, 2. ],\n",
              "       [6.2, 3.4, 5.4, 2.3],\n",
              "       [5.9, 3. , 5.1, 1.8]])"
            ]
          },
          "metadata": {},
          "execution_count": 27
        }
      ]
    },
    {
      "cell_type": "code",
      "source": [
        "iris.data_module"
      ],
      "metadata": {
        "colab": {
          "base_uri": "https://localhost:8080/",
          "height": 36
        },
        "id": "J-RhQZjDCmO7",
        "outputId": "d760e4e0-5cc6-4c80-d979-f8d83e45a296"
      },
      "execution_count": null,
      "outputs": [
        {
          "output_type": "execute_result",
          "data": {
            "text/plain": [
              "'sklearn.datasets.data'"
            ],
            "application/vnd.google.colaboratory.intrinsic+json": {
              "type": "string"
            }
          },
          "metadata": {},
          "execution_count": 28
        }
      ]
    },
    {
      "cell_type": "code",
      "source": [
        "iris.feature_names"
      ],
      "metadata": {
        "colab": {
          "base_uri": "https://localhost:8080/"
        },
        "id": "XA9cJqk0Cpji",
        "outputId": "573cc92b-110f-4f93-f961-f25aeda5b1ae"
      },
      "execution_count": null,
      "outputs": [
        {
          "output_type": "execute_result",
          "data": {
            "text/plain": [
              "['sepal length (cm)',\n",
              " 'sepal width (cm)',\n",
              " 'petal length (cm)',\n",
              " 'petal width (cm)']"
            ]
          },
          "metadata": {},
          "execution_count": 29
        }
      ]
    },
    {
      "cell_type": "code",
      "source": [
        "iris.filename"
      ],
      "metadata": {
        "colab": {
          "base_uri": "https://localhost:8080/",
          "height": 36
        },
        "id": "PhdQ4q0TCz07",
        "outputId": "55fb53c5-7f2d-4ff4-d136-ddc975b825a8"
      },
      "execution_count": null,
      "outputs": [
        {
          "output_type": "execute_result",
          "data": {
            "text/plain": [
              "'iris.csv'"
            ],
            "application/vnd.google.colaboratory.intrinsic+json": {
              "type": "string"
            }
          },
          "metadata": {},
          "execution_count": 30
        }
      ]
    },
    {
      "cell_type": "code",
      "source": [
        "iris.frame"
      ],
      "metadata": {
        "id": "jQqF-Is2C4pq"
      },
      "execution_count": null,
      "outputs": []
    },
    {
      "cell_type": "code",
      "source": [
        "iris.target"
      ],
      "metadata": {
        "colab": {
          "base_uri": "https://localhost:8080/"
        },
        "id": "wfg5nBS8C7KC",
        "outputId": "0636c5c4-2c2c-4d78-dffa-7278bf813ab0"
      },
      "execution_count": null,
      "outputs": [
        {
          "output_type": "execute_result",
          "data": {
            "text/plain": [
              "array([0, 0, 0, 0, 0, 0, 0, 0, 0, 0, 0, 0, 0, 0, 0, 0, 0, 0, 0, 0, 0, 0,\n",
              "       0, 0, 0, 0, 0, 0, 0, 0, 0, 0, 0, 0, 0, 0, 0, 0, 0, 0, 0, 0, 0, 0,\n",
              "       0, 0, 0, 0, 0, 0, 1, 1, 1, 1, 1, 1, 1, 1, 1, 1, 1, 1, 1, 1, 1, 1,\n",
              "       1, 1, 1, 1, 1, 1, 1, 1, 1, 1, 1, 1, 1, 1, 1, 1, 1, 1, 1, 1, 1, 1,\n",
              "       1, 1, 1, 1, 1, 1, 1, 1, 1, 1, 1, 1, 2, 2, 2, 2, 2, 2, 2, 2, 2, 2,\n",
              "       2, 2, 2, 2, 2, 2, 2, 2, 2, 2, 2, 2, 2, 2, 2, 2, 2, 2, 2, 2, 2, 2,\n",
              "       2, 2, 2, 2, 2, 2, 2, 2, 2, 2, 2, 2, 2, 2, 2, 2, 2, 2])"
            ]
          },
          "metadata": {},
          "execution_count": 32
        }
      ]
    },
    {
      "cell_type": "code",
      "source": [
        "iris.target_names"
      ],
      "metadata": {
        "colab": {
          "base_uri": "https://localhost:8080/"
        },
        "id": "VsvwTiN9DDBJ",
        "outputId": "fd7f4aee-9ecf-4bcb-f669-033df3aa5896"
      },
      "execution_count": null,
      "outputs": [
        {
          "output_type": "execute_result",
          "data": {
            "text/plain": [
              "array(['setosa', 'versicolor', 'virginica'], dtype='<U10')"
            ]
          },
          "metadata": {},
          "execution_count": 33
        }
      ]
    },
    {
      "cell_type": "code",
      "source": [
        "iris.DESCR"
      ],
      "metadata": {
        "colab": {
          "base_uri": "https://localhost:8080/",
          "height": 123
        },
        "id": "Eimln73XDp1P",
        "outputId": "b382bf51-d841-4ad3-e012-613708110e54"
      },
      "execution_count": null,
      "outputs": [
        {
          "output_type": "execute_result",
          "data": {
            "text/plain": [
              "'.. _iris_dataset:\\n\\nIris plants dataset\\n--------------------\\n\\n**Data Set Characteristics:**\\n\\n    :Number of Instances: 150 (50 in each of three classes)\\n    :Number of Attributes: 4 numeric, predictive attributes and the class\\n    :Attribute Information:\\n        - sepal length in cm\\n        - sepal width in cm\\n        - petal length in cm\\n        - petal width in cm\\n        - class:\\n                - Iris-Setosa\\n                - Iris-Versicolour\\n                - Iris-Virginica\\n                \\n    :Summary Statistics:\\n\\n    ============== ==== ==== ======= ===== ====================\\n                    Min  Max   Mean    SD   Class Correlation\\n    ============== ==== ==== ======= ===== ====================\\n    sepal length:   4.3  7.9   5.84   0.83    0.7826\\n    sepal width:    2.0  4.4   3.05   0.43   -0.4194\\n    petal length:   1.0  6.9   3.76   1.76    0.9490  (high!)\\n    petal width:    0.1  2.5   1.20   0.76    0.9565  (high!)\\n    ============== ==== ==== ======= ===== ====================\\n\\n    :Missing Attribute Values: None\\n    :Class Distribution: 33.3% for each of 3 classes.\\n    :Creator: R.A. Fisher\\n    :Donor: Michael Marshall (MARSHALL%PLU@io.arc.nasa.gov)\\n    :Date: July, 1988\\n\\nThe famous Iris database, first used by Sir R.A. Fisher. The dataset is taken\\nfrom Fisher\\'s paper. Note that it\\'s the same as in R, but not as in the UCI\\nMachine Learning Repository, which has two wrong data points.\\n\\nThis is perhaps the best known database to be found in the\\npattern recognition literature.  Fisher\\'s paper is a classic in the field and\\nis referenced frequently to this day.  (See Duda & Hart, for example.)  The\\ndata set contains 3 classes of 50 instances each, where each class refers to a\\ntype of iris plant.  One class is linearly separable from the other 2; the\\nlatter are NOT linearly separable from each other.\\n\\n.. topic:: References\\n\\n   - Fisher, R.A. \"The use of multiple measurements in taxonomic problems\"\\n     Annual Eugenics, 7, Part II, 179-188 (1936); also in \"Contributions to\\n     Mathematical Statistics\" (John Wiley, NY, 1950).\\n   - Duda, R.O., & Hart, P.E. (1973) Pattern Classification and Scene Analysis.\\n     (Q327.D83) John Wiley & Sons.  ISBN 0-471-22361-1.  See page 218.\\n   - Dasarathy, B.V. (1980) \"Nosing Around the Neighborhood: A New System\\n     Structure and Classification Rule for Recognition in Partially Exposed\\n     Environments\".  IEEE Transactions on Pattern Analysis and Machine\\n     Intelligence, Vol. PAMI-2, No. 1, 67-71.\\n   - Gates, G.W. (1972) \"The Reduced Nearest Neighbor Rule\".  IEEE Transactions\\n     on Information Theory, May 1972, 431-433.\\n   - See also: 1988 MLC Proceedings, 54-64.  Cheeseman et al\"s AUTOCLASS II\\n     conceptual clustering system finds 3 classes in the data.\\n   - Many, many more ...'"
            ],
            "application/vnd.google.colaboratory.intrinsic+json": {
              "type": "string"
            }
          },
          "metadata": {},
          "execution_count": 34
        }
      ]
    },
    {
      "cell_type": "code",
      "source": [
        "iris"
      ],
      "metadata": {
        "colab": {
          "base_uri": "https://localhost:8080/"
        },
        "id": "EIHzAQXQEYnN",
        "outputId": "ba5f96af-1fa8-4344-e2c1-93596ca81351"
      },
      "execution_count": null,
      "outputs": [
        {
          "output_type": "execute_result",
          "data": {
            "text/plain": [
              "{'data': array([[5.1, 3.5, 1.4, 0.2],\n",
              "        [4.9, 3. , 1.4, 0.2],\n",
              "        [4.7, 3.2, 1.3, 0.2],\n",
              "        [4.6, 3.1, 1.5, 0.2],\n",
              "        [5. , 3.6, 1.4, 0.2],\n",
              "        [5.4, 3.9, 1.7, 0.4],\n",
              "        [4.6, 3.4, 1.4, 0.3],\n",
              "        [5. , 3.4, 1.5, 0.2],\n",
              "        [4.4, 2.9, 1.4, 0.2],\n",
              "        [4.9, 3.1, 1.5, 0.1],\n",
              "        [5.4, 3.7, 1.5, 0.2],\n",
              "        [4.8, 3.4, 1.6, 0.2],\n",
              "        [4.8, 3. , 1.4, 0.1],\n",
              "        [4.3, 3. , 1.1, 0.1],\n",
              "        [5.8, 4. , 1.2, 0.2],\n",
              "        [5.7, 4.4, 1.5, 0.4],\n",
              "        [5.4, 3.9, 1.3, 0.4],\n",
              "        [5.1, 3.5, 1.4, 0.3],\n",
              "        [5.7, 3.8, 1.7, 0.3],\n",
              "        [5.1, 3.8, 1.5, 0.3],\n",
              "        [5.4, 3.4, 1.7, 0.2],\n",
              "        [5.1, 3.7, 1.5, 0.4],\n",
              "        [4.6, 3.6, 1. , 0.2],\n",
              "        [5.1, 3.3, 1.7, 0.5],\n",
              "        [4.8, 3.4, 1.9, 0.2],\n",
              "        [5. , 3. , 1.6, 0.2],\n",
              "        [5. , 3.4, 1.6, 0.4],\n",
              "        [5.2, 3.5, 1.5, 0.2],\n",
              "        [5.2, 3.4, 1.4, 0.2],\n",
              "        [4.7, 3.2, 1.6, 0.2],\n",
              "        [4.8, 3.1, 1.6, 0.2],\n",
              "        [5.4, 3.4, 1.5, 0.4],\n",
              "        [5.2, 4.1, 1.5, 0.1],\n",
              "        [5.5, 4.2, 1.4, 0.2],\n",
              "        [4.9, 3.1, 1.5, 0.2],\n",
              "        [5. , 3.2, 1.2, 0.2],\n",
              "        [5.5, 3.5, 1.3, 0.2],\n",
              "        [4.9, 3.6, 1.4, 0.1],\n",
              "        [4.4, 3. , 1.3, 0.2],\n",
              "        [5.1, 3.4, 1.5, 0.2],\n",
              "        [5. , 3.5, 1.3, 0.3],\n",
              "        [4.5, 2.3, 1.3, 0.3],\n",
              "        [4.4, 3.2, 1.3, 0.2],\n",
              "        [5. , 3.5, 1.6, 0.6],\n",
              "        [5.1, 3.8, 1.9, 0.4],\n",
              "        [4.8, 3. , 1.4, 0.3],\n",
              "        [5.1, 3.8, 1.6, 0.2],\n",
              "        [4.6, 3.2, 1.4, 0.2],\n",
              "        [5.3, 3.7, 1.5, 0.2],\n",
              "        [5. , 3.3, 1.4, 0.2],\n",
              "        [7. , 3.2, 4.7, 1.4],\n",
              "        [6.4, 3.2, 4.5, 1.5],\n",
              "        [6.9, 3.1, 4.9, 1.5],\n",
              "        [5.5, 2.3, 4. , 1.3],\n",
              "        [6.5, 2.8, 4.6, 1.5],\n",
              "        [5.7, 2.8, 4.5, 1.3],\n",
              "        [6.3, 3.3, 4.7, 1.6],\n",
              "        [4.9, 2.4, 3.3, 1. ],\n",
              "        [6.6, 2.9, 4.6, 1.3],\n",
              "        [5.2, 2.7, 3.9, 1.4],\n",
              "        [5. , 2. , 3.5, 1. ],\n",
              "        [5.9, 3. , 4.2, 1.5],\n",
              "        [6. , 2.2, 4. , 1. ],\n",
              "        [6.1, 2.9, 4.7, 1.4],\n",
              "        [5.6, 2.9, 3.6, 1.3],\n",
              "        [6.7, 3.1, 4.4, 1.4],\n",
              "        [5.6, 3. , 4.5, 1.5],\n",
              "        [5.8, 2.7, 4.1, 1. ],\n",
              "        [6.2, 2.2, 4.5, 1.5],\n",
              "        [5.6, 2.5, 3.9, 1.1],\n",
              "        [5.9, 3.2, 4.8, 1.8],\n",
              "        [6.1, 2.8, 4. , 1.3],\n",
              "        [6.3, 2.5, 4.9, 1.5],\n",
              "        [6.1, 2.8, 4.7, 1.2],\n",
              "        [6.4, 2.9, 4.3, 1.3],\n",
              "        [6.6, 3. , 4.4, 1.4],\n",
              "        [6.8, 2.8, 4.8, 1.4],\n",
              "        [6.7, 3. , 5. , 1.7],\n",
              "        [6. , 2.9, 4.5, 1.5],\n",
              "        [5.7, 2.6, 3.5, 1. ],\n",
              "        [5.5, 2.4, 3.8, 1.1],\n",
              "        [5.5, 2.4, 3.7, 1. ],\n",
              "        [5.8, 2.7, 3.9, 1.2],\n",
              "        [6. , 2.7, 5.1, 1.6],\n",
              "        [5.4, 3. , 4.5, 1.5],\n",
              "        [6. , 3.4, 4.5, 1.6],\n",
              "        [6.7, 3.1, 4.7, 1.5],\n",
              "        [6.3, 2.3, 4.4, 1.3],\n",
              "        [5.6, 3. , 4.1, 1.3],\n",
              "        [5.5, 2.5, 4. , 1.3],\n",
              "        [5.5, 2.6, 4.4, 1.2],\n",
              "        [6.1, 3. , 4.6, 1.4],\n",
              "        [5.8, 2.6, 4. , 1.2],\n",
              "        [5. , 2.3, 3.3, 1. ],\n",
              "        [5.6, 2.7, 4.2, 1.3],\n",
              "        [5.7, 3. , 4.2, 1.2],\n",
              "        [5.7, 2.9, 4.2, 1.3],\n",
              "        [6.2, 2.9, 4.3, 1.3],\n",
              "        [5.1, 2.5, 3. , 1.1],\n",
              "        [5.7, 2.8, 4.1, 1.3],\n",
              "        [6.3, 3.3, 6. , 2.5],\n",
              "        [5.8, 2.7, 5.1, 1.9],\n",
              "        [7.1, 3. , 5.9, 2.1],\n",
              "        [6.3, 2.9, 5.6, 1.8],\n",
              "        [6.5, 3. , 5.8, 2.2],\n",
              "        [7.6, 3. , 6.6, 2.1],\n",
              "        [4.9, 2.5, 4.5, 1.7],\n",
              "        [7.3, 2.9, 6.3, 1.8],\n",
              "        [6.7, 2.5, 5.8, 1.8],\n",
              "        [7.2, 3.6, 6.1, 2.5],\n",
              "        [6.5, 3.2, 5.1, 2. ],\n",
              "        [6.4, 2.7, 5.3, 1.9],\n",
              "        [6.8, 3. , 5.5, 2.1],\n",
              "        [5.7, 2.5, 5. , 2. ],\n",
              "        [5.8, 2.8, 5.1, 2.4],\n",
              "        [6.4, 3.2, 5.3, 2.3],\n",
              "        [6.5, 3. , 5.5, 1.8],\n",
              "        [7.7, 3.8, 6.7, 2.2],\n",
              "        [7.7, 2.6, 6.9, 2.3],\n",
              "        [6. , 2.2, 5. , 1.5],\n",
              "        [6.9, 3.2, 5.7, 2.3],\n",
              "        [5.6, 2.8, 4.9, 2. ],\n",
              "        [7.7, 2.8, 6.7, 2. ],\n",
              "        [6.3, 2.7, 4.9, 1.8],\n",
              "        [6.7, 3.3, 5.7, 2.1],\n",
              "        [7.2, 3.2, 6. , 1.8],\n",
              "        [6.2, 2.8, 4.8, 1.8],\n",
              "        [6.1, 3. , 4.9, 1.8],\n",
              "        [6.4, 2.8, 5.6, 2.1],\n",
              "        [7.2, 3. , 5.8, 1.6],\n",
              "        [7.4, 2.8, 6.1, 1.9],\n",
              "        [7.9, 3.8, 6.4, 2. ],\n",
              "        [6.4, 2.8, 5.6, 2.2],\n",
              "        [6.3, 2.8, 5.1, 1.5],\n",
              "        [6.1, 2.6, 5.6, 1.4],\n",
              "        [7.7, 3. , 6.1, 2.3],\n",
              "        [6.3, 3.4, 5.6, 2.4],\n",
              "        [6.4, 3.1, 5.5, 1.8],\n",
              "        [6. , 3. , 4.8, 1.8],\n",
              "        [6.9, 3.1, 5.4, 2.1],\n",
              "        [6.7, 3.1, 5.6, 2.4],\n",
              "        [6.9, 3.1, 5.1, 2.3],\n",
              "        [5.8, 2.7, 5.1, 1.9],\n",
              "        [6.8, 3.2, 5.9, 2.3],\n",
              "        [6.7, 3.3, 5.7, 2.5],\n",
              "        [6.7, 3. , 5.2, 2.3],\n",
              "        [6.3, 2.5, 5. , 1.9],\n",
              "        [6.5, 3. , 5.2, 2. ],\n",
              "        [6.2, 3.4, 5.4, 2.3],\n",
              "        [5.9, 3. , 5.1, 1.8]]),\n",
              " 'target': array([0, 0, 0, 0, 0, 0, 0, 0, 0, 0, 0, 0, 0, 0, 0, 0, 0, 0, 0, 0, 0, 0,\n",
              "        0, 0, 0, 0, 0, 0, 0, 0, 0, 0, 0, 0, 0, 0, 0, 0, 0, 0, 0, 0, 0, 0,\n",
              "        0, 0, 0, 0, 0, 0, 1, 1, 1, 1, 1, 1, 1, 1, 1, 1, 1, 1, 1, 1, 1, 1,\n",
              "        1, 1, 1, 1, 1, 1, 1, 1, 1, 1, 1, 1, 1, 1, 1, 1, 1, 1, 1, 1, 1, 1,\n",
              "        1, 1, 1, 1, 1, 1, 1, 1, 1, 1, 1, 1, 2, 2, 2, 2, 2, 2, 2, 2, 2, 2,\n",
              "        2, 2, 2, 2, 2, 2, 2, 2, 2, 2, 2, 2, 2, 2, 2, 2, 2, 2, 2, 2, 2, 2,\n",
              "        2, 2, 2, 2, 2, 2, 2, 2, 2, 2, 2, 2, 2, 2, 2, 2, 2, 2]),\n",
              " 'frame': None,\n",
              " 'target_names': array(['setosa', 'versicolor', 'virginica'], dtype='<U10'),\n",
              " 'DESCR': '.. _iris_dataset:\\n\\nIris plants dataset\\n--------------------\\n\\n**Data Set Characteristics:**\\n\\n    :Number of Instances: 150 (50 in each of three classes)\\n    :Number of Attributes: 4 numeric, predictive attributes and the class\\n    :Attribute Information:\\n        - sepal length in cm\\n        - sepal width in cm\\n        - petal length in cm\\n        - petal width in cm\\n        - class:\\n                - Iris-Setosa\\n                - Iris-Versicolour\\n                - Iris-Virginica\\n                \\n    :Summary Statistics:\\n\\n    ============== ==== ==== ======= ===== ====================\\n                    Min  Max   Mean    SD   Class Correlation\\n    ============== ==== ==== ======= ===== ====================\\n    sepal length:   4.3  7.9   5.84   0.83    0.7826\\n    sepal width:    2.0  4.4   3.05   0.43   -0.4194\\n    petal length:   1.0  6.9   3.76   1.76    0.9490  (high!)\\n    petal width:    0.1  2.5   1.20   0.76    0.9565  (high!)\\n    ============== ==== ==== ======= ===== ====================\\n\\n    :Missing Attribute Values: None\\n    :Class Distribution: 33.3% for each of 3 classes.\\n    :Creator: R.A. Fisher\\n    :Donor: Michael Marshall (MARSHALL%PLU@io.arc.nasa.gov)\\n    :Date: July, 1988\\n\\nThe famous Iris database, first used by Sir R.A. Fisher. The dataset is taken\\nfrom Fisher\\'s paper. Note that it\\'s the same as in R, but not as in the UCI\\nMachine Learning Repository, which has two wrong data points.\\n\\nThis is perhaps the best known database to be found in the\\npattern recognition literature.  Fisher\\'s paper is a classic in the field and\\nis referenced frequently to this day.  (See Duda & Hart, for example.)  The\\ndata set contains 3 classes of 50 instances each, where each class refers to a\\ntype of iris plant.  One class is linearly separable from the other 2; the\\nlatter are NOT linearly separable from each other.\\n\\n.. topic:: References\\n\\n   - Fisher, R.A. \"The use of multiple measurements in taxonomic problems\"\\n     Annual Eugenics, 7, Part II, 179-188 (1936); also in \"Contributions to\\n     Mathematical Statistics\" (John Wiley, NY, 1950).\\n   - Duda, R.O., & Hart, P.E. (1973) Pattern Classification and Scene Analysis.\\n     (Q327.D83) John Wiley & Sons.  ISBN 0-471-22361-1.  See page 218.\\n   - Dasarathy, B.V. (1980) \"Nosing Around the Neighborhood: A New System\\n     Structure and Classification Rule for Recognition in Partially Exposed\\n     Environments\".  IEEE Transactions on Pattern Analysis and Machine\\n     Intelligence, Vol. PAMI-2, No. 1, 67-71.\\n   - Gates, G.W. (1972) \"The Reduced Nearest Neighbor Rule\".  IEEE Transactions\\n     on Information Theory, May 1972, 431-433.\\n   - See also: 1988 MLC Proceedings, 54-64.  Cheeseman et al\"s AUTOCLASS II\\n     conceptual clustering system finds 3 classes in the data.\\n   - Many, many more ...',\n",
              " 'feature_names': ['sepal length (cm)',\n",
              "  'sepal width (cm)',\n",
              "  'petal length (cm)',\n",
              "  'petal width (cm)'],\n",
              " 'filename': 'iris.csv',\n",
              " 'data_module': 'sklearn.datasets.data'}"
            ]
          },
          "metadata": {},
          "execution_count": 35
        }
      ]
    },
    {
      "cell_type": "code",
      "source": [
        "from sklearn.model_selection import train_test_split\n",
        "x_train,x_test,y_train,y_test=train_test_split(iris.data,iris.target,test_size=0.2)"
      ],
      "metadata": {
        "id": "azlljPDfE6vs"
      },
      "execution_count": null,
      "outputs": []
    },
    {
      "cell_type": "code",
      "source": [
        "#create ANN model\n",
        "model=Sequential()"
      ],
      "metadata": {
        "id": "wxxh4cMcFjkx"
      },
      "execution_count": null,
      "outputs": []
    },
    {
      "cell_type": "code",
      "source": [
        "input_layer=Dense(4,input_shape=(4,))\n",
        "model.add(input_layer)\n",
        "model.summary()"
      ],
      "metadata": {
        "colab": {
          "base_uri": "https://localhost:8080/"
        },
        "id": "6wmXcGyaF-GH",
        "outputId": "e5f854f9-2ab2-4c48-b94d-d19cd2f6e795"
      },
      "execution_count": null,
      "outputs": [
        {
          "output_type": "stream",
          "name": "stdout",
          "text": [
            "Model: \"sequential_1\"\n",
            "_________________________________________________________________\n",
            " Layer (type)                Output Shape              Param #   \n",
            "=================================================================\n",
            " dense_4 (Dense)             (None, 4)                 20        \n",
            "                                                                 \n",
            "=================================================================\n",
            "Total params: 20 (80.00 Byte)\n",
            "Trainable params: 20 (80.00 Byte)\n",
            "Non-trainable params: 0 (0.00 Byte)\n",
            "_________________________________________________________________\n"
          ]
        }
      ]
    },
    {
      "cell_type": "code",
      "source": [
        "hidden_layer1=Dense(16,activation='relu')\n",
        "model.add(hidden_layer1)\n",
        "model.summary()"
      ],
      "metadata": {
        "colab": {
          "base_uri": "https://localhost:8080/"
        },
        "id": "xAAP_nV4Ha3Y",
        "outputId": "89a2aa38-487c-42a3-ac42-91bb73446c4d"
      },
      "execution_count": null,
      "outputs": [
        {
          "output_type": "stream",
          "name": "stdout",
          "text": [
            "Model: \"sequential_1\"\n",
            "_________________________________________________________________\n",
            " Layer (type)                Output Shape              Param #   \n",
            "=================================================================\n",
            " dense_4 (Dense)             (None, 4)                 20        \n",
            "                                                                 \n",
            " dense_5 (Dense)             (None, 16)                80        \n",
            "                                                                 \n",
            "=================================================================\n",
            "Total params: 100 (400.00 Byte)\n",
            "Trainable params: 100 (400.00 Byte)\n",
            "Non-trainable params: 0 (0.00 Byte)\n",
            "_________________________________________________________________\n"
          ]
        }
      ]
    },
    {
      "cell_type": "code",
      "source": [
        "hidden_layer2=Dense(16,activation='relu')\n",
        "model.add(hidden_layer2)\n",
        "model.summary()"
      ],
      "metadata": {
        "colab": {
          "base_uri": "https://localhost:8080/"
        },
        "id": "ACo8qWbJKq5G",
        "outputId": "a52b3882-f4fd-4996-b2d6-4e90d603683c"
      },
      "execution_count": null,
      "outputs": [
        {
          "output_type": "stream",
          "name": "stdout",
          "text": [
            "Model: \"sequential_1\"\n",
            "_________________________________________________________________\n",
            " Layer (type)                Output Shape              Param #   \n",
            "=================================================================\n",
            " dense_4 (Dense)             (None, 4)                 20        \n",
            "                                                                 \n",
            " dense_5 (Dense)             (None, 16)                80        \n",
            "                                                                 \n",
            " dense_6 (Dense)             (None, 16)                272       \n",
            "                                                                 \n",
            "=================================================================\n",
            "Total params: 372 (1.45 KB)\n",
            "Trainable params: 372 (1.45 KB)\n",
            "Non-trainable params: 0 (0.00 Byte)\n",
            "_________________________________________________________________\n"
          ]
        }
      ]
    },
    {
      "cell_type": "code",
      "source": [
        "output_layer=Dense(3, activation='softmax')\n",
        "model.add(output_layer)\n",
        "model.summary()"
      ],
      "metadata": {
        "colab": {
          "base_uri": "https://localhost:8080/"
        },
        "id": "RZMuIvBPIlQE",
        "outputId": "6cd2cce3-24bd-433a-8c29-4236fc6e8f35"
      },
      "execution_count": null,
      "outputs": [
        {
          "output_type": "stream",
          "name": "stdout",
          "text": [
            "Model: \"sequential_1\"\n",
            "_________________________________________________________________\n",
            " Layer (type)                Output Shape              Param #   \n",
            "=================================================================\n",
            " dense_4 (Dense)             (None, 4)                 20        \n",
            "                                                                 \n",
            " dense_5 (Dense)             (None, 16)                80        \n",
            "                                                                 \n",
            " dense_6 (Dense)             (None, 16)                272       \n",
            "                                                                 \n",
            " dense_7 (Dense)             (None, 3)                 51        \n",
            "                                                                 \n",
            "=================================================================\n",
            "Total params: 423 (1.65 KB)\n",
            "Trainable params: 423 (1.65 KB)\n",
            "Non-trainable params: 0 (0.00 Byte)\n",
            "_________________________________________________________________\n"
          ]
        }
      ]
    },
    {
      "cell_type": "code",
      "source": [
        "model.compile(optimizer='sgd',metrics=['accuracy'],loss='sparse_categorical_crossentropy')"
      ],
      "metadata": {
        "id": "EdrqlY1iK0-q"
      },
      "execution_count": null,
      "outputs": []
    },
    {
      "cell_type": "code",
      "source": [
        "model.fit(x_train,y_train,epochs=150,batch_size=4)"
      ],
      "metadata": {
        "colab": {
          "base_uri": "https://localhost:8080/"
        },
        "id": "PZ0FQPAzLdoK",
        "outputId": "6251a5b0-0718-43b3-bcf6-38d607e3f36f"
      },
      "execution_count": null,
      "outputs": [
        {
          "output_type": "stream",
          "name": "stdout",
          "text": [
            "Epoch 1/150\n",
            "30/30 [==============================] - 1s 3ms/step - loss: 1.0626 - accuracy: 0.5250\n",
            "Epoch 2/150\n",
            "30/30 [==============================] - 0s 3ms/step - loss: 0.8249 - accuracy: 0.6833\n",
            "Epoch 3/150\n",
            "30/30 [==============================] - 0s 3ms/step - loss: 0.6916 - accuracy: 0.7000\n",
            "Epoch 4/150\n",
            "30/30 [==============================] - 0s 3ms/step - loss: 0.5953 - accuracy: 0.7500\n",
            "Epoch 5/150\n",
            "30/30 [==============================] - 0s 3ms/step - loss: 0.5170 - accuracy: 0.7917\n",
            "Epoch 6/150\n",
            "30/30 [==============================] - 0s 3ms/step - loss: 0.4615 - accuracy: 0.8500\n",
            "Epoch 7/150\n",
            "30/30 [==============================] - 0s 3ms/step - loss: 0.4147 - accuracy: 0.8333\n",
            "Epoch 8/150\n",
            "30/30 [==============================] - 0s 3ms/step - loss: 0.3946 - accuracy: 0.8583\n",
            "Epoch 9/150\n",
            "30/30 [==============================] - 0s 3ms/step - loss: 0.3336 - accuracy: 0.8667\n",
            "Epoch 10/150\n",
            "30/30 [==============================] - 0s 3ms/step - loss: 0.3292 - accuracy: 0.8667\n",
            "Epoch 11/150\n",
            "30/30 [==============================] - 0s 3ms/step - loss: 0.3002 - accuracy: 0.8917\n",
            "Epoch 12/150\n",
            "30/30 [==============================] - 0s 3ms/step - loss: 0.2799 - accuracy: 0.8917\n",
            "Epoch 13/150\n",
            "30/30 [==============================] - 0s 3ms/step - loss: 0.2571 - accuracy: 0.9083\n",
            "Epoch 14/150\n",
            "30/30 [==============================] - 0s 2ms/step - loss: 0.2234 - accuracy: 0.9333\n",
            "Epoch 15/150\n",
            "30/30 [==============================] - 0s 2ms/step - loss: 0.2537 - accuracy: 0.9250\n",
            "Epoch 16/150\n",
            "30/30 [==============================] - 0s 2ms/step - loss: 0.2401 - accuracy: 0.9167\n",
            "Epoch 17/150\n",
            "30/30 [==============================] - 0s 2ms/step - loss: 0.1832 - accuracy: 0.9167\n",
            "Epoch 18/150\n",
            "30/30 [==============================] - 0s 2ms/step - loss: 0.2425 - accuracy: 0.8833\n",
            "Epoch 19/150\n",
            "30/30 [==============================] - 0s 2ms/step - loss: 0.1784 - accuracy: 0.9000\n",
            "Epoch 20/150\n",
            "30/30 [==============================] - 0s 2ms/step - loss: 0.1949 - accuracy: 0.9417\n",
            "Epoch 21/150\n",
            "30/30 [==============================] - 0s 3ms/step - loss: 0.2095 - accuracy: 0.9250\n",
            "Epoch 22/150\n",
            "30/30 [==============================] - 0s 2ms/step - loss: 0.2809 - accuracy: 0.8417\n",
            "Epoch 23/150\n",
            "30/30 [==============================] - 0s 3ms/step - loss: 0.1974 - accuracy: 0.9333\n",
            "Epoch 24/150\n",
            "30/30 [==============================] - 0s 3ms/step - loss: 0.1554 - accuracy: 0.9417\n",
            "Epoch 25/150\n",
            "30/30 [==============================] - 0s 3ms/step - loss: 0.1344 - accuracy: 0.9417\n",
            "Epoch 26/150\n",
            "30/30 [==============================] - 0s 3ms/step - loss: 0.1442 - accuracy: 0.9583\n",
            "Epoch 27/150\n",
            "30/30 [==============================] - 0s 3ms/step - loss: 0.1977 - accuracy: 0.9083\n",
            "Epoch 28/150\n",
            "30/30 [==============================] - 0s 2ms/step - loss: 0.1271 - accuracy: 0.9500\n",
            "Epoch 29/150\n",
            "30/30 [==============================] - 0s 3ms/step - loss: 0.1199 - accuracy: 0.9583\n",
            "Epoch 30/150\n",
            "30/30 [==============================] - 0s 3ms/step - loss: 0.1384 - accuracy: 0.9417\n",
            "Epoch 31/150\n",
            "30/30 [==============================] - 0s 3ms/step - loss: 0.1857 - accuracy: 0.9000\n",
            "Epoch 32/150\n",
            "30/30 [==============================] - 0s 3ms/step - loss: 0.2017 - accuracy: 0.9083\n",
            "Epoch 33/150\n",
            "30/30 [==============================] - 0s 2ms/step - loss: 0.3028 - accuracy: 0.8500\n",
            "Epoch 34/150\n",
            "30/30 [==============================] - 0s 3ms/step - loss: 0.1289 - accuracy: 0.9583\n",
            "Epoch 35/150\n",
            "30/30 [==============================] - 0s 3ms/step - loss: 0.1053 - accuracy: 0.9667\n",
            "Epoch 36/150\n",
            "30/30 [==============================] - 0s 3ms/step - loss: 0.1993 - accuracy: 0.9500\n",
            "Epoch 37/150\n",
            "30/30 [==============================] - 0s 2ms/step - loss: 0.1509 - accuracy: 0.9500\n",
            "Epoch 38/150\n",
            "30/30 [==============================] - 0s 2ms/step - loss: 0.1837 - accuracy: 0.9083\n",
            "Epoch 39/150\n",
            "30/30 [==============================] - 0s 2ms/step - loss: 0.1001 - accuracy: 0.9750\n",
            "Epoch 40/150\n",
            "30/30 [==============================] - 0s 2ms/step - loss: 0.1569 - accuracy: 0.9333\n",
            "Epoch 41/150\n",
            "30/30 [==============================] - 0s 2ms/step - loss: 0.1179 - accuracy: 0.9417\n",
            "Epoch 42/150\n",
            "30/30 [==============================] - 0s 2ms/step - loss: 0.2326 - accuracy: 0.9250\n",
            "Epoch 43/150\n",
            "30/30 [==============================] - 0s 2ms/step - loss: 0.1878 - accuracy: 0.9417\n",
            "Epoch 44/150\n",
            "30/30 [==============================] - 0s 2ms/step - loss: 0.1067 - accuracy: 0.9667\n",
            "Epoch 45/150\n",
            "30/30 [==============================] - 0s 2ms/step - loss: 0.2072 - accuracy: 0.9083\n",
            "Epoch 46/150\n",
            "30/30 [==============================] - 0s 2ms/step - loss: 0.1706 - accuracy: 0.9333\n",
            "Epoch 47/150\n",
            "30/30 [==============================] - 0s 2ms/step - loss: 0.1210 - accuracy: 0.9500\n",
            "Epoch 48/150\n",
            "30/30 [==============================] - 0s 3ms/step - loss: 0.1249 - accuracy: 0.9417\n",
            "Epoch 49/150\n",
            "30/30 [==============================] - 0s 3ms/step - loss: 0.1235 - accuracy: 0.9667\n",
            "Epoch 50/150\n",
            "30/30 [==============================] - 0s 3ms/step - loss: 0.1018 - accuracy: 0.9583\n",
            "Epoch 51/150\n",
            "30/30 [==============================] - 0s 4ms/step - loss: 0.1446 - accuracy: 0.9417\n",
            "Epoch 52/150\n",
            "30/30 [==============================] - 0s 3ms/step - loss: 0.1620 - accuracy: 0.9167\n",
            "Epoch 53/150\n",
            "30/30 [==============================] - 0s 2ms/step - loss: 0.1186 - accuracy: 0.9667\n",
            "Epoch 54/150\n",
            "30/30 [==============================] - 0s 3ms/step - loss: 0.1003 - accuracy: 0.9583\n",
            "Epoch 55/150\n",
            "30/30 [==============================] - 0s 3ms/step - loss: 0.1085 - accuracy: 0.9750\n",
            "Epoch 56/150\n",
            "30/30 [==============================] - 0s 3ms/step - loss: 0.1430 - accuracy: 0.9417\n",
            "Epoch 57/150\n",
            "30/30 [==============================] - 0s 3ms/step - loss: 0.1162 - accuracy: 0.9500\n",
            "Epoch 58/150\n",
            "30/30 [==============================] - 0s 4ms/step - loss: 0.1022 - accuracy: 0.9417\n",
            "Epoch 59/150\n",
            "30/30 [==============================] - 0s 5ms/step - loss: 0.1347 - accuracy: 0.9417\n",
            "Epoch 60/150\n",
            "30/30 [==============================] - 0s 5ms/step - loss: 0.1067 - accuracy: 0.9667\n",
            "Epoch 61/150\n",
            "30/30 [==============================] - 0s 5ms/step - loss: 0.1238 - accuracy: 0.9583\n",
            "Epoch 62/150\n",
            "30/30 [==============================] - 0s 5ms/step - loss: 0.0780 - accuracy: 0.9667\n",
            "Epoch 63/150\n",
            "30/30 [==============================] - 0s 3ms/step - loss: 0.1056 - accuracy: 0.9667\n",
            "Epoch 64/150\n",
            "30/30 [==============================] - 0s 3ms/step - loss: 0.1633 - accuracy: 0.9333\n",
            "Epoch 65/150\n",
            "30/30 [==============================] - 0s 5ms/step - loss: 0.0942 - accuracy: 0.9667\n",
            "Epoch 66/150\n",
            "30/30 [==============================] - 0s 3ms/step - loss: 0.2025 - accuracy: 0.9417\n",
            "Epoch 67/150\n",
            "30/30 [==============================] - 0s 8ms/step - loss: 0.0963 - accuracy: 0.9750\n",
            "Epoch 68/150\n",
            "30/30 [==============================] - 0s 4ms/step - loss: 0.1275 - accuracy: 0.9500\n",
            "Epoch 69/150\n",
            "30/30 [==============================] - 0s 3ms/step - loss: 0.1478 - accuracy: 0.9417\n",
            "Epoch 70/150\n",
            "30/30 [==============================] - 0s 3ms/step - loss: 0.0955 - accuracy: 0.9667\n",
            "Epoch 71/150\n",
            "30/30 [==============================] - 0s 5ms/step - loss: 0.1082 - accuracy: 0.9667\n",
            "Epoch 72/150\n",
            "30/30 [==============================] - 0s 4ms/step - loss: 0.1174 - accuracy: 0.9667\n",
            "Epoch 73/150\n",
            "30/30 [==============================] - 0s 5ms/step - loss: 0.1270 - accuracy: 0.9667\n",
            "Epoch 74/150\n",
            "30/30 [==============================] - 0s 5ms/step - loss: 0.0814 - accuracy: 0.9583\n",
            "Epoch 75/150\n",
            "30/30 [==============================] - 0s 3ms/step - loss: 0.1091 - accuracy: 0.9583\n",
            "Epoch 76/150\n",
            "30/30 [==============================] - 0s 3ms/step - loss: 0.1128 - accuracy: 0.9500\n",
            "Epoch 77/150\n",
            "30/30 [==============================] - 0s 4ms/step - loss: 0.1439 - accuracy: 0.9250\n",
            "Epoch 78/150\n",
            "30/30 [==============================] - 0s 6ms/step - loss: 0.1136 - accuracy: 0.9667\n",
            "Epoch 79/150\n",
            "30/30 [==============================] - 0s 4ms/step - loss: 0.0836 - accuracy: 0.9750\n",
            "Epoch 80/150\n",
            "30/30 [==============================] - 0s 3ms/step - loss: 0.1561 - accuracy: 0.9417\n",
            "Epoch 81/150\n",
            "30/30 [==============================] - 0s 3ms/step - loss: 0.0830 - accuracy: 0.9583\n",
            "Epoch 82/150\n",
            "30/30 [==============================] - 0s 4ms/step - loss: 0.1474 - accuracy: 0.9417\n",
            "Epoch 83/150\n",
            "30/30 [==============================] - 0s 3ms/step - loss: 0.1104 - accuracy: 0.9583\n",
            "Epoch 84/150\n",
            "30/30 [==============================] - 0s 3ms/step - loss: 0.0948 - accuracy: 0.9667\n",
            "Epoch 85/150\n",
            "30/30 [==============================] - 0s 3ms/step - loss: 0.1133 - accuracy: 0.9500\n",
            "Epoch 86/150\n",
            "30/30 [==============================] - 0s 3ms/step - loss: 0.1105 - accuracy: 0.9583\n",
            "Epoch 87/150\n",
            "30/30 [==============================] - 0s 3ms/step - loss: 0.1197 - accuracy: 0.9500\n",
            "Epoch 88/150\n",
            "30/30 [==============================] - 0s 3ms/step - loss: 0.1019 - accuracy: 0.9500\n",
            "Epoch 89/150\n",
            "30/30 [==============================] - 0s 3ms/step - loss: 0.1743 - accuracy: 0.9167\n",
            "Epoch 90/150\n",
            "30/30 [==============================] - 0s 3ms/step - loss: 0.1088 - accuracy: 0.9583\n",
            "Epoch 91/150\n",
            "30/30 [==============================] - 0s 4ms/step - loss: 0.0818 - accuracy: 0.9667\n",
            "Epoch 92/150\n",
            "30/30 [==============================] - 0s 4ms/step - loss: 0.0981 - accuracy: 0.9667\n",
            "Epoch 93/150\n",
            "30/30 [==============================] - 0s 3ms/step - loss: 0.0885 - accuracy: 0.9667\n",
            "Epoch 94/150\n",
            "30/30 [==============================] - 0s 5ms/step - loss: 0.0997 - accuracy: 0.9500\n",
            "Epoch 95/150\n",
            "30/30 [==============================] - 0s 3ms/step - loss: 0.0753 - accuracy: 0.9750\n",
            "Epoch 96/150\n",
            "30/30 [==============================] - 0s 3ms/step - loss: 0.0657 - accuracy: 0.9917\n",
            "Epoch 97/150\n",
            "30/30 [==============================] - 0s 3ms/step - loss: 0.1085 - accuracy: 0.9500\n",
            "Epoch 98/150\n",
            "30/30 [==============================] - 0s 3ms/step - loss: 0.1097 - accuracy: 0.9667\n",
            "Epoch 99/150\n",
            "30/30 [==============================] - 0s 3ms/step - loss: 0.0763 - accuracy: 0.9750\n",
            "Epoch 100/150\n",
            "30/30 [==============================] - 0s 3ms/step - loss: 0.1274 - accuracy: 0.9417\n",
            "Epoch 101/150\n",
            "30/30 [==============================] - 0s 4ms/step - loss: 0.1296 - accuracy: 0.9417\n",
            "Epoch 102/150\n",
            "30/30 [==============================] - 0s 3ms/step - loss: 0.0985 - accuracy: 0.9500\n",
            "Epoch 103/150\n",
            "30/30 [==============================] - 0s 3ms/step - loss: 0.0764 - accuracy: 0.9833\n",
            "Epoch 104/150\n",
            "30/30 [==============================] - 0s 4ms/step - loss: 0.0759 - accuracy: 0.9833\n",
            "Epoch 105/150\n",
            "30/30 [==============================] - 0s 6ms/step - loss: 0.0931 - accuracy: 0.9500\n",
            "Epoch 106/150\n",
            "30/30 [==============================] - 0s 3ms/step - loss: 0.0746 - accuracy: 0.9750\n",
            "Epoch 107/150\n",
            "30/30 [==============================] - 0s 2ms/step - loss: 0.0726 - accuracy: 0.9750\n",
            "Epoch 108/150\n",
            "30/30 [==============================] - 0s 2ms/step - loss: 0.0918 - accuracy: 0.9667\n",
            "Epoch 109/150\n",
            "30/30 [==============================] - 0s 2ms/step - loss: 0.0938 - accuracy: 0.9667\n",
            "Epoch 110/150\n",
            "30/30 [==============================] - 0s 2ms/step - loss: 0.0795 - accuracy: 0.9750\n",
            "Epoch 111/150\n",
            "30/30 [==============================] - 0s 2ms/step - loss: 0.1203 - accuracy: 0.9583\n",
            "Epoch 112/150\n",
            "30/30 [==============================] - 0s 2ms/step - loss: 0.0862 - accuracy: 0.9667\n",
            "Epoch 113/150\n",
            "30/30 [==============================] - 0s 2ms/step - loss: 0.1087 - accuracy: 0.9500\n",
            "Epoch 114/150\n",
            "30/30 [==============================] - 0s 2ms/step - loss: 0.0709 - accuracy: 0.9750\n",
            "Epoch 115/150\n",
            "30/30 [==============================] - 0s 2ms/step - loss: 0.0871 - accuracy: 0.9667\n",
            "Epoch 116/150\n",
            "30/30 [==============================] - 0s 2ms/step - loss: 0.0980 - accuracy: 0.9583\n",
            "Epoch 117/150\n",
            "30/30 [==============================] - 0s 2ms/step - loss: 0.0881 - accuracy: 0.9750\n",
            "Epoch 118/150\n",
            "30/30 [==============================] - 0s 2ms/step - loss: 0.1043 - accuracy: 0.9500\n",
            "Epoch 119/150\n",
            "30/30 [==============================] - 0s 2ms/step - loss: 0.0731 - accuracy: 0.9750\n",
            "Epoch 120/150\n",
            "30/30 [==============================] - 0s 2ms/step - loss: 0.0941 - accuracy: 0.9583\n",
            "Epoch 121/150\n",
            "30/30 [==============================] - 0s 2ms/step - loss: 0.0616 - accuracy: 0.9833\n",
            "Epoch 122/150\n",
            "30/30 [==============================] - 0s 2ms/step - loss: 0.0810 - accuracy: 0.9750\n",
            "Epoch 123/150\n",
            "30/30 [==============================] - 0s 2ms/step - loss: 0.0888 - accuracy: 0.9667\n",
            "Epoch 124/150\n",
            "30/30 [==============================] - 0s 2ms/step - loss: 0.1159 - accuracy: 0.9417\n",
            "Epoch 125/150\n",
            "30/30 [==============================] - 0s 2ms/step - loss: 0.0851 - accuracy: 0.9500\n",
            "Epoch 126/150\n",
            "30/30 [==============================] - 0s 2ms/step - loss: 0.2014 - accuracy: 0.9583\n",
            "Epoch 127/150\n",
            "30/30 [==============================] - 0s 2ms/step - loss: 0.1046 - accuracy: 0.9583\n",
            "Epoch 128/150\n",
            "30/30 [==============================] - 0s 2ms/step - loss: 0.0751 - accuracy: 0.9750\n",
            "Epoch 129/150\n",
            "30/30 [==============================] - 0s 2ms/step - loss: 0.0870 - accuracy: 0.9667\n",
            "Epoch 130/150\n",
            "30/30 [==============================] - 0s 2ms/step - loss: 0.0787 - accuracy: 0.9667\n",
            "Epoch 131/150\n",
            "30/30 [==============================] - 0s 2ms/step - loss: 0.0950 - accuracy: 0.9583\n",
            "Epoch 132/150\n",
            "30/30 [==============================] - 0s 2ms/step - loss: 0.0843 - accuracy: 0.9750\n",
            "Epoch 133/150\n",
            "30/30 [==============================] - 0s 2ms/step - loss: 0.0833 - accuracy: 0.9667\n",
            "Epoch 134/150\n",
            "30/30 [==============================] - 0s 2ms/step - loss: 0.0553 - accuracy: 0.9917\n",
            "Epoch 135/150\n",
            "30/30 [==============================] - 0s 2ms/step - loss: 0.1005 - accuracy: 0.9583\n",
            "Epoch 136/150\n",
            "30/30 [==============================] - 0s 2ms/step - loss: 0.1243 - accuracy: 0.9583\n",
            "Epoch 137/150\n",
            "30/30 [==============================] - 0s 2ms/step - loss: 0.0953 - accuracy: 0.9583\n",
            "Epoch 138/150\n",
            "30/30 [==============================] - 0s 2ms/step - loss: 0.0777 - accuracy: 0.9667\n",
            "Epoch 139/150\n",
            "30/30 [==============================] - 0s 2ms/step - loss: 0.0744 - accuracy: 0.9750\n",
            "Epoch 140/150\n",
            "30/30 [==============================] - 0s 3ms/step - loss: 0.1191 - accuracy: 0.9500\n",
            "Epoch 141/150\n",
            "30/30 [==============================] - 0s 2ms/step - loss: 0.0759 - accuracy: 0.9667\n",
            "Epoch 142/150\n",
            "30/30 [==============================] - 0s 3ms/step - loss: 0.0681 - accuracy: 0.9667\n",
            "Epoch 143/150\n",
            "30/30 [==============================] - 0s 3ms/step - loss: 0.1220 - accuracy: 0.9667\n",
            "Epoch 144/150\n",
            "30/30 [==============================] - 0s 3ms/step - loss: 0.0737 - accuracy: 0.9667\n",
            "Epoch 145/150\n",
            "30/30 [==============================] - 0s 3ms/step - loss: 0.0869 - accuracy: 0.9667\n",
            "Epoch 146/150\n",
            "30/30 [==============================] - 0s 3ms/step - loss: 0.0608 - accuracy: 0.9833\n",
            "Epoch 147/150\n",
            "30/30 [==============================] - 0s 3ms/step - loss: 0.1172 - accuracy: 0.9500\n",
            "Epoch 148/150\n",
            "30/30 [==============================] - 0s 3ms/step - loss: 0.1420 - accuracy: 0.9583\n",
            "Epoch 149/150\n",
            "30/30 [==============================] - 0s 3ms/step - loss: 0.0903 - accuracy: 0.9667\n",
            "Epoch 150/150\n",
            "30/30 [==============================] - 0s 3ms/step - loss: 0.0629 - accuracy: 0.9833\n"
          ]
        },
        {
          "output_type": "execute_result",
          "data": {
            "text/plain": [
              "<keras.src.callbacks.History at 0x7bcb9a58c190>"
            ]
          },
          "metadata": {},
          "execution_count": 43
        }
      ]
    },
    {
      "cell_type": "code",
      "source": [
        "val_loss,val_acc= model.evaluate(x_test,y_test)"
      ],
      "metadata": {
        "id": "reQMY2jjNFd7",
        "colab": {
          "base_uri": "https://localhost:8080/"
        },
        "outputId": "50edf2c0-8267-4d83-9c1f-a3a8523a5d23"
      },
      "execution_count": null,
      "outputs": [
        {
          "output_type": "stream",
          "name": "stdout",
          "text": [
            "1/1 [==============================] - 0s 215ms/step - loss: 0.0653 - accuracy: 0.9667\n"
          ]
        }
      ]
    },
    {
      "cell_type": "code",
      "source": [
        "print(val_loss)\n",
        "print(val_acc)"
      ],
      "metadata": {
        "id": "GH9WIofLNT1w",
        "colab": {
          "base_uri": "https://localhost:8080/"
        },
        "outputId": "6e76a29d-8ae7-4a7b-e01d-4afd4ee73cac"
      },
      "execution_count": null,
      "outputs": [
        {
          "output_type": "stream",
          "name": "stdout",
          "text": [
            "0.06533274799585342\n",
            "0.9666666388511658\n"
          ]
        }
      ]
    },
    {
      "cell_type": "code",
      "source": [
        " #make prediction\n",
        " import numpy as np\n",
        " arr1=np.array([[5.1, 3.5, 1.4, 0.2]])\n",
        " result1=model.predict(arr1)\n",
        " print(result1)\n",
        " print(np.argmax(result1))"
      ],
      "metadata": {
        "id": "xDc5FBTfOgGn",
        "colab": {
          "base_uri": "https://localhost:8080/"
        },
        "outputId": "4304e59e-48f0-4762-aec3-75d168528a30"
      },
      "execution_count": null,
      "outputs": [
        {
          "output_type": "stream",
          "name": "stdout",
          "text": [
            "1/1 [==============================] - 0s 91ms/step\n",
            "[[9.9976832e-01 2.3171691e-04 2.2087289e-14]]\n",
            "0\n"
          ]
        }
      ]
    },
    {
      "cell_type": "code",
      "source": [],
      "metadata": {
        "id": "jl0G-m9WDtdr"
      },
      "execution_count": null,
      "outputs": []
    }
  ]
}